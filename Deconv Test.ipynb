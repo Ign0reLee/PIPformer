{
 "cells": [
  {
   "cell_type": "code",
   "execution_count": 2,
   "id": "612bf0ba",
   "metadata": {},
   "outputs": [],
   "source": [
    "import torch\n",
    "import torch.nn as nn"
   ]
  },
  {
   "cell_type": "code",
   "execution_count": 3,
   "id": "71ea4672",
   "metadata": {},
   "outputs": [],
   "source": [
    "test = torch.randn((1, 3, 256, 256))"
   ]
  },
  {
   "cell_type": "code",
   "execution_count": 14,
   "id": "8bf3833b",
   "metadata": {},
   "outputs": [
    {
     "data": {
      "text/plain": [
       "tensor([[[[-1.2251,  1.4859,  0.2630,  ..., -0.2817, -2.1767, -0.9843],\n",
       "          [ 0.4004, -0.8808, -1.3535,  ..., -0.0042,  0.6259,  0.8949]],\n",
       "\n",
       "         [[ 1.0191,  1.7383, -1.6736,  ...,  0.4802,  0.7240, -0.6583],\n",
       "          [ 0.1798,  1.0151, -2.8442,  ..., -1.0002, -0.0389, -0.4894]],\n",
       "\n",
       "         [[ 0.5537,  1.4418, -0.2600,  ...,  0.0077,  0.4144,  0.1523],\n",
       "          [-0.4429, -1.5929,  1.5569,  ..., -0.8111, -0.2674,  0.8163]]]])"
      ]
     },
     "execution_count": 14,
     "metadata": {},
     "output_type": "execute_result"
    }
   ],
   "source": [
    "test[:,:,0:2]"
   ]
  },
  {
   "cell_type": "code",
   "execution_count": 17,
   "id": "f09a82b0",
   "metadata": {},
   "outputs": [
    {
     "data": {
      "text/plain": [
       "tensor([[[[-1.2251,  1.7383, -0.2600]]]])"
      ]
     },
     "execution_count": 17,
     "metadata": {},
     "output_type": "execute_result"
    }
   ],
   "source": [
    "torch.gather(test, 1, torch.tensor([[[0],[[ 1]]]]))"
   ]
  },
  {
   "cell_type": "code",
   "execution_count": 4,
   "id": "a12aba4e",
   "metadata": {},
   "outputs": [],
   "source": [
    "testconv = nn.Sequential(\n",
    "            nn.Conv2d(3, 512, kernel_size=16, stride=16),\n",
    ")"
   ]
  },
  {
   "cell_type": "code",
   "execution_count": 7,
   "id": "57659caa",
   "metadata": {},
   "outputs": [
    {
     "data": {
      "text/plain": [
       "torch.Size([1, 512, 16, 16])"
      ]
     },
     "execution_count": 7,
     "metadata": {},
     "output_type": "execute_result"
    }
   ],
   "source": [
    "out1 = testconv(test)\n",
    "out1.size()"
   ]
  },
  {
   "cell_type": "code",
   "execution_count": 9,
   "id": "77d3a826",
   "metadata": {},
   "outputs": [],
   "source": [
    "testdeconv = nn.Sequential(\n",
    "            nn.ConvTranspose2d(512, 3, kernel_size=16, stride=16),\n",
    ")"
   ]
  },
  {
   "cell_type": "code",
   "execution_count": 10,
   "id": "6a77e18c",
   "metadata": {},
   "outputs": [
    {
     "data": {
      "text/plain": [
       "torch.Size([1, 3, 256, 256])"
      ]
     },
     "execution_count": 10,
     "metadata": {},
     "output_type": "execute_result"
    }
   ],
   "source": [
    "testdeconv(out1).size()"
   ]
  }
 ],
 "metadata": {
  "interpreter": {
   "hash": "46528f690b8fd1e6480675381d9f14b17ce102062da0ef4b2ad6fba2551053f5"
  },
  "kernelspec": {
   "display_name": "Python 3",
   "language": "python",
   "name": "python3"
  },
  "language_info": {
   "codemirror_mode": {
    "name": "ipython",
    "version": 3
   },
   "file_extension": ".py",
   "mimetype": "text/x-python",
   "name": "python",
   "nbconvert_exporter": "python",
   "pygments_lexer": "ipython3",
   "version": "3.7.11"
  }
 },
 "nbformat": 4,
 "nbformat_minor": 5
}
